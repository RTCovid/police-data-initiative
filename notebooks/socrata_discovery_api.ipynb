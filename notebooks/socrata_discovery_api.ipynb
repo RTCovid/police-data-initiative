{
 "cells": [
  {
   "cell_type": "code",
   "execution_count": 1,
   "metadata": {},
   "outputs": [],
   "source": [
    "import requests\n",
    "import pandas as pd\n",
    "import os\n",
    "\n",
    "base_socrata_url = 'http://api.us.socrata.com/api/catalog/v1'\n",
    "socrata_catalog_params = {\n",
    "    'min_should_match' : '1',\n",
    "    'q' : ['police']\n",
    "}\n",
    "QUERY_LIST = ['police', 'force', 'use']\n",
    "MIN_SHOULD_MATCH = '3'"
   ]
  },
  {
   "cell_type": "code",
   "execution_count": 2,
   "metadata": {},
   "outputs": [],
   "source": [
    "query_str = ' '.join(QUERY_LIST)\n",
    "socrata_params_str = '?min_should_match={}&q={}&limit=5000'.format(MIN_SHOULD_MATCH, query_str)\n",
    "socrata_url = base_socrata_url + socrata_params_str"
   ]
  },
  {
   "cell_type": "code",
   "execution_count": 3,
   "metadata": {},
   "outputs": [
    {
     "data": {
      "text/plain": [
       "'http://api.us.socrata.com/api/catalog/v1?min_should_match=3&q=police force use&limit=5000'"
      ]
     },
     "execution_count": 3,
     "metadata": {},
     "output_type": "execute_result"
    }
   ],
   "source": [
    "socrata_url"
   ]
  },
  {
   "cell_type": "code",
   "execution_count": 4,
   "metadata": {},
   "outputs": [],
   "source": [
    "socrata_resp = requests.get(socrata_url)\n",
    "socrata_json = socrata_resp.json()"
   ]
  },
  {
   "cell_type": "code",
   "execution_count": 9,
   "metadata": {},
   "outputs": [],
   "source": [
    "def get_resource_summary(dataset_json):\n",
    "    \n",
    "    dataset_resource = dataset_json['resource']\n",
    "    dataset_metadata = dataset_json['metadata']\n",
    "    dataset_id = dataset_resource['id']\n",
    "    domain = dataset_metadata['domain']\n",
    "    resource_url = os.path.join('https://', domain, 'resource', '{}.json'.format(dataset_id))\n",
    "    \n",
    "    resource_name = dataset_resource['name']\n",
    "\n",
    "    dataset_summary_row = {\n",
    "        'dataset_name' : resource_name,\n",
    "        'dataset_url' : resource_url,\n",
    "        'data_updated_at' : dataset_resource['data_updated_at'],\n",
    "        'browser_url' : dataset_json['permalink'],\n",
    "        'domain' : domain\n",
    "    }\n",
    "    \n",
    "    try:\n",
    "        \n",
    "        resource_data = requests.get(resource_url)\n",
    "        resource_df = pd.DataFrame(resource_data.json())\n",
    "        resource_df = resource_df.dropna(how='all')\n",
    "\n",
    "        resource_cols = dataset_resource['columns_field_name']\n",
    "        resource_coltypes = dataset_resource['columns_datatype']\n",
    "        resource_col_dict = dict(zip(resource_cols, resource_coltypes))\n",
    "        \n",
    "        resource_datecol_dict = {k: v for k, v in resource_col_dict.items() if 'calendar' in v.lower()}\n",
    "        resource_date_cols = [col for col in resource_datecol_dict.keys()]\n",
    "\n",
    "        resource_df = resource_df[resource_date_cols].dropna(how='any')\n",
    "\n",
    "        most_recent_dates = []\n",
    "        date_cols = []\n",
    "\n",
    "        print(dataset_json['permalink'])\n",
    "        for date_col in resource_date_cols:\n",
    "            date_cols.append(date_col)\n",
    "            resource_df[date_col] = pd.to_datetime(resource_df[date_col]).dt.date\n",
    "            most_recent_dt = resource_df[date_col].max()\n",
    "            most_recent_dates.append(most_recent_dt)\n",
    "\n",
    "        dataset_summary_row['date_cols'] = ','.join(date_cols)\n",
    "        dataset_summary_row['dataset_most_recent_dates'] = ','.join([str(dt) for dt in most_recent_dates])\n",
    "\n",
    "    except Exception as e:\n",
    "        dataset_summary_row['error'] = e\n",
    "    return dataset_summary_row"
   ]
  },
  {
   "cell_type": "code",
   "execution_count": 10,
   "metadata": {},
   "outputs": [],
   "source": [
    "socrata_summary_df = pd.DataFrame()"
   ]
  },
  {
   "cell_type": "code",
   "execution_count": 11,
   "metadata": {},
   "outputs": [
    {
     "name": "stdout",
     "output_type": "stream",
     "text": [
      "0\n",
      "https://data.seattle.gov/d/ppi5-g2bj\n",
      "1\n",
      "https://opendata.howardcountymd.gov/d/aas5-u28t\n",
      "4\n",
      "https://data.nola.gov/d/9mnw-mbde\n",
      "5\n",
      "https://data.ny.gov/d/ca8h-8gjq\n",
      "7\n",
      "https://data.baltimorecity.gov/d/3w4d-kckv\n",
      "8\n",
      "https://data.seattle.gov/d/mg5r-efcm\n",
      "9\n",
      "https://data.cincinnati-oh.gov/d/8us8-wi2w\n",
      "11\n",
      "https://www.dallasopendata.com/d/594v-2cnd\n",
      "16\n",
      "https://data.seattle.gov/d/i2q9-thny\n",
      "22\n",
      "https://data.cityofevanston.org/d/62x8-q9xh\n",
      "23\n",
      "https://www.dallasopendata.com/d/99fn-pvaf\n",
      "24\n",
      "https://data.cityofchicago.org/d/mft5-nfa8\n",
      "25\n",
      "https://data.cityofchicago.org/d/ufxy-tgry\n",
      "28\n",
      "https://www.dallasopendata.com/d/xiv3-e8g7\n",
      "32\n",
      "https://data.cityofnewyork.us/d/63nx-cpi9\n",
      "37\n",
      "https://data.greensboro-nc.gov/d/xwnh-pcw7\n",
      "39\n",
      "https://data.oaklandnet.com/d/jhje-p3tp\n",
      "40\n",
      "https://data.cityofevanston.org/d/rayz-jh7c\n",
      "41\n",
      "https://data.kcmo.org/d/6wc4-sd7p\n",
      "42\n",
      "https://data.cityofevanston.org/d/98fk-vn7p\n",
      "44\n",
      "https://data.greensboro-nc.gov/d/x3i6-auhy\n",
      "46\n",
      "https://dashboard.edmonton.ca/d/sjhf-upbn\n",
      "48\n",
      "https://data.cityofevanston.org/d/svr6-yjjj\n",
      "50\n",
      "https://www.dallasopendata.com/d/6gnu-avpf\n",
      "53\n",
      "https://www.transparentrichmond.org/d/d62r-nicg\n",
      "55\n",
      "https://data.austintexas.gov/d/uzqv-9uza\n",
      "56\n",
      "https://data.cityoforlando.net/d/ap4w-p9kt\n",
      "57\n",
      "https://www.dallasopendata.com/d/46zb-7qgj\n",
      "58\n",
      "https://data.austintexas.gov/d/9qgn-zgva\n",
      "61\n",
      "78\n",
      "https://www.dallasopendata.com/d/33un-ry4j\n",
      "80\n",
      "https://www.dallasopendata.com/d/tsu5-ca6k\n",
      "83\n",
      "https://opendata.fcgov.com/d/c2i2-fbh4\n",
      "85\n",
      "https://data.cityofnewyork.us/d/fx4z-5xg2\n",
      "87\n",
      "88\n",
      "https://www.transparentrichmond.org/d/asfd-zcvn\n",
      "107\n",
      "https://impact.stlouisco.com/d/i7ih-m6sd\n",
      "108\n",
      "https://impact.stlouisco.com/d/un7n-57ce\n",
      "117\n",
      "https://data.buffalony.gov/d/adai-75jt\n",
      "118\n",
      "https://data.austintexas.gov/d/rus9-w6q5\n",
      "119\n",
      "https://ptsd-va.data.socrata.com/d/bajy-d4i3\n",
      "120\n",
      "https://data.austintexas.gov/d/c7is-tz8m\n",
      "121\n",
      "https://data.cityofnewyork.us/d/xyq2-jjkn\n",
      "122\n",
      "https://ptsd-va.data.socrata.com/d/ssts-kiy5\n",
      "123\n",
      "https://data.usaid.gov/d/xhzi-cvqu\n",
      "124\n",
      "https://data.bts.gov/d/crem-w557\n",
      "125\n",
      "https://ptsd-va.data.socrata.com/d/fm9e-bwhc\n"
     ]
    }
   ],
   "source": [
    "\n",
    "for idx, resource in enumerate(socrata_json['results']):\n",
    "    if resource['resource']['type'] == 'dataset':\n",
    "        print(idx)\n",
    "        dataset_summary = get_resource_summary(resource)\n",
    "        socrata_summary_df = socrata_summary_df.append(dataset_summary, ignore_index=True)"
   ]
  },
  {
   "cell_type": "code",
   "execution_count": 8,
   "metadata": {},
   "outputs": [],
   "source": [
    "socrata_summary_df.to_csv('./police_force_use.csv', index=False)\n",
    "#socrata_summary_df = pd.DataFrame()\n",
    "\n",
    "#socrata_summary_df = socrata_summary_df.append(dataset_summary, ignore_index=True)"
   ]
  },
  {
   "cell_type": "code",
   "execution_count": 111,
   "metadata": {},
   "outputs": [
    {
     "data": {
      "text/html": [
       "<div>\n",
       "<style scoped>\n",
       "    .dataframe tbody tr th:only-of-type {\n",
       "        vertical-align: middle;\n",
       "    }\n",
       "\n",
       "    .dataframe tbody tr th {\n",
       "        vertical-align: top;\n",
       "    }\n",
       "\n",
       "    .dataframe thead th {\n",
       "        text-align: right;\n",
       "    }\n",
       "</style>\n",
       "<table border=\"1\" class=\"dataframe\">\n",
       "  <thead>\n",
       "    <tr style=\"text-align: right;\">\n",
       "      <th></th>\n",
       "      <th>browser_url</th>\n",
       "      <th>data_updated_at</th>\n",
       "      <th>dataset_most_recent_dates</th>\n",
       "      <th>dataset_name</th>\n",
       "      <th>dataset_url</th>\n",
       "      <th>date_cols</th>\n",
       "    </tr>\n",
       "  </thead>\n",
       "  <tbody>\n",
       "    <tr>\n",
       "      <th>0</th>\n",
       "      <td>https://data.seattle.gov/d/ppi5-g2bj</td>\n",
       "      <td>2020-07-12T10:10:43.000Z</td>\n",
       "      <td>2014-10-06</td>\n",
       "      <td>Use Of Force</td>\n",
       "      <td>https://data.seattle.gov/resource/ppi5-g2bj.json</td>\n",
       "      <td>occured_date_time</td>\n",
       "    </tr>\n",
       "    <tr>\n",
       "      <th>1</th>\n",
       "      <td>https://opendata.howardcountymd.gov/d/aas5-u28t</td>\n",
       "      <td>2020-07-02T12:40:56.000Z</td>\n",
       "      <td></td>\n",
       "      <td>Howard County Police Department  Use Of Force ...</td>\n",
       "      <td>https://opendata.howardcountymd.gov/resource/a...</td>\n",
       "      <td></td>\n",
       "    </tr>\n",
       "    <tr>\n",
       "      <th>2</th>\n",
       "      <td>https://data.nola.gov/d/9mnw-mbde</td>\n",
       "      <td>2020-02-11T21:13:56.000Z</td>\n",
       "      <td>2016-08-03</td>\n",
       "      <td>NOPD Use of Force Incidents</td>\n",
       "      <td>https://data.nola.gov/resource/9mnw-mbde.json</td>\n",
       "      <td>date_occurred</td>\n",
       "    </tr>\n",
       "    <tr>\n",
       "      <th>3</th>\n",
       "      <td>https://data.ny.gov/d/ca8h-8gjq</td>\n",
       "      <td>2019-10-01T22:04:56.000Z</td>\n",
       "      <td></td>\n",
       "      <td>Index Crimes by County and Agency: Beginning 1990</td>\n",
       "      <td>https://data.ny.gov/resource/ca8h-8gjq.json</td>\n",
       "      <td></td>\n",
       "    </tr>\n",
       "    <tr>\n",
       "      <th>4</th>\n",
       "      <td>https://data.baltimorecity.gov/d/3w4d-kckv</td>\n",
       "      <td>2015-12-04T16:28:46.000Z</td>\n",
       "      <td>2015-11-20</td>\n",
       "      <td>BPD Officer Involved Use Of Force</td>\n",
       "      <td>https://data.baltimorecity.gov/resource/3w4d-k...</td>\n",
       "      <td>date</td>\n",
       "    </tr>\n",
       "    <tr>\n",
       "      <th>...</th>\n",
       "      <td>...</td>\n",
       "      <td>...</td>\n",
       "      <td>...</td>\n",
       "      <td>...</td>\n",
       "      <td>...</td>\n",
       "      <td>...</td>\n",
       "    </tr>\n",
       "    <tr>\n",
       "      <th>64</th>\n",
       "      <td>https://data.cms.gov/d/din4-7td8</td>\n",
       "      <td>2015-05-06T15:46:05.000Z</td>\n",
       "      <td></td>\n",
       "      <td>Medicare Provider Utilization and Payment Data...</td>\n",
       "      <td>https://data.cms.gov/resource/din4-7td8.json</td>\n",
       "      <td></td>\n",
       "    </tr>\n",
       "    <tr>\n",
       "      <th>65</th>\n",
       "      <td>https://datahub.smcgov.org/d/kcwq-73vi</td>\n",
       "      <td>2016-04-25T15:30:41.000Z</td>\n",
       "      <td>2014-01-01</td>\n",
       "      <td>CVI Indicators Tracts</td>\n",
       "      <td>https://datahub.smcgov.org/resource/kcwq-73vi....</td>\n",
       "      <td>year</td>\n",
       "    </tr>\n",
       "    <tr>\n",
       "      <th>66</th>\n",
       "      <td>https://data.nola.gov/d/qtcu-97s9</td>\n",
       "      <td>2019-10-10T09:04:39.000Z</td>\n",
       "      <td></td>\n",
       "      <td>Electronic Police Report 2017</td>\n",
       "      <td>https://data.nola.gov/resource/qtcu-97s9.json</td>\n",
       "      <td></td>\n",
       "    </tr>\n",
       "    <tr>\n",
       "      <th>67</th>\n",
       "      <td>https://data.cityofnewyork.us/d/t5qg-w9sq</td>\n",
       "      <td>2018-06-07T21:52:17.000Z</td>\n",
       "      <td></td>\n",
       "      <td>2016-2017 Student Discipline Annual Report - D...</td>\n",
       "      <td>https://data.cityofnewyork.us/resource/t5qg-w9...</td>\n",
       "      <td></td>\n",
       "    </tr>\n",
       "    <tr>\n",
       "      <th>68</th>\n",
       "      <td>https://data.nola.gov/d/5fn8-vtui</td>\n",
       "      <td>2015-11-02T18:13:14.000Z</td>\n",
       "      <td>2013-01-01,2013-01-01,2013-01-01,2013-01-01</td>\n",
       "      <td>Calls for Service 2013</td>\n",
       "      <td>https://data.nola.gov/resource/5fn8-vtui.json</td>\n",
       "      <td>timearrive,timecreate,timeclosed,timedispatch</td>\n",
       "    </tr>\n",
       "  </tbody>\n",
       "</table>\n",
       "<p>69 rows × 6 columns</p>\n",
       "</div>"
      ],
      "text/plain": [
       "                                        browser_url           data_updated_at  \\\n",
       "0              https://data.seattle.gov/d/ppi5-g2bj  2020-07-12T10:10:43.000Z   \n",
       "1   https://opendata.howardcountymd.gov/d/aas5-u28t  2020-07-02T12:40:56.000Z   \n",
       "2                 https://data.nola.gov/d/9mnw-mbde  2020-02-11T21:13:56.000Z   \n",
       "3                   https://data.ny.gov/d/ca8h-8gjq  2019-10-01T22:04:56.000Z   \n",
       "4        https://data.baltimorecity.gov/d/3w4d-kckv  2015-12-04T16:28:46.000Z   \n",
       "..                                              ...                       ...   \n",
       "64                 https://data.cms.gov/d/din4-7td8  2015-05-06T15:46:05.000Z   \n",
       "65           https://datahub.smcgov.org/d/kcwq-73vi  2016-04-25T15:30:41.000Z   \n",
       "66                https://data.nola.gov/d/qtcu-97s9  2019-10-10T09:04:39.000Z   \n",
       "67        https://data.cityofnewyork.us/d/t5qg-w9sq  2018-06-07T21:52:17.000Z   \n",
       "68                https://data.nola.gov/d/5fn8-vtui  2015-11-02T18:13:14.000Z   \n",
       "\n",
       "                      dataset_most_recent_dates  \\\n",
       "0                                    2014-10-06   \n",
       "1                                                 \n",
       "2                                    2016-08-03   \n",
       "3                                                 \n",
       "4                                    2015-11-20   \n",
       "..                                          ...   \n",
       "64                                                \n",
       "65                                   2014-01-01   \n",
       "66                                                \n",
       "67                                                \n",
       "68  2013-01-01,2013-01-01,2013-01-01,2013-01-01   \n",
       "\n",
       "                                         dataset_name  \\\n",
       "0                                        Use Of Force   \n",
       "1   Howard County Police Department  Use Of Force ...   \n",
       "2                         NOPD Use of Force Incidents   \n",
       "3   Index Crimes by County and Agency: Beginning 1990   \n",
       "4                   BPD Officer Involved Use Of Force   \n",
       "..                                                ...   \n",
       "64  Medicare Provider Utilization and Payment Data...   \n",
       "65                              CVI Indicators Tracts   \n",
       "66                      Electronic Police Report 2017   \n",
       "67  2016-2017 Student Discipline Annual Report - D...   \n",
       "68                             Calls for Service 2013   \n",
       "\n",
       "                                          dataset_url  \\\n",
       "0    https://data.seattle.gov/resource/ppi5-g2bj.json   \n",
       "1   https://opendata.howardcountymd.gov/resource/a...   \n",
       "2       https://data.nola.gov/resource/9mnw-mbde.json   \n",
       "3         https://data.ny.gov/resource/ca8h-8gjq.json   \n",
       "4   https://data.baltimorecity.gov/resource/3w4d-k...   \n",
       "..                                                ...   \n",
       "64       https://data.cms.gov/resource/din4-7td8.json   \n",
       "65  https://datahub.smcgov.org/resource/kcwq-73vi....   \n",
       "66      https://data.nola.gov/resource/qtcu-97s9.json   \n",
       "67  https://data.cityofnewyork.us/resource/t5qg-w9...   \n",
       "68      https://data.nola.gov/resource/5fn8-vtui.json   \n",
       "\n",
       "                                        date_cols  \n",
       "0                               occured_date_time  \n",
       "1                                                  \n",
       "2                                   date_occurred  \n",
       "3                                                  \n",
       "4                                            date  \n",
       "..                                            ...  \n",
       "64                                                 \n",
       "65                                           year  \n",
       "66                                                 \n",
       "67                                                 \n",
       "68  timearrive,timecreate,timeclosed,timedispatch  \n",
       "\n",
       "[69 rows x 6 columns]"
      ]
     },
     "execution_count": 111,
     "metadata": {},
     "output_type": "execute_result"
    }
   ],
   "source": [
    "socrata_json['results'][624]"
   ]
  },
  {
   "cell_type": "code",
   "execution_count": null,
   "metadata": {},
   "outputs": [],
   "source": []
  },
  {
   "cell_type": "code",
   "execution_count": 109,
   "metadata": {},
   "outputs": [
    {
     "data": {
      "text/html": [
       "<div>\n",
       "<style scoped>\n",
       "    .dataframe tbody tr th:only-of-type {\n",
       "        vertical-align: middle;\n",
       "    }\n",
       "\n",
       "    .dataframe tbody tr th {\n",
       "        vertical-align: top;\n",
       "    }\n",
       "\n",
       "    .dataframe thead th {\n",
       "        text-align: right;\n",
       "    }\n",
       "</style>\n",
       "<table border=\"1\" class=\"dataframe\">\n",
       "  <thead>\n",
       "    <tr style=\"text-align: right;\">\n",
       "      <th></th>\n",
       "      <th>browser_url</th>\n",
       "      <th>data_updated_at</th>\n",
       "      <th>dataset_most_recent_dates</th>\n",
       "      <th>dataset_name</th>\n",
       "      <th>dataset_url</th>\n",
       "      <th>date_cols</th>\n",
       "    </tr>\n",
       "  </thead>\n",
       "  <tbody>\n",
       "    <tr>\n",
       "      <th>0</th>\n",
       "      <td>https://data.seattle.gov/d/ppi5-g2bj</td>\n",
       "      <td>2020-07-12T10:10:43.000Z</td>\n",
       "      <td>2014-10-06</td>\n",
       "      <td>Use Of Force</td>\n",
       "      <td>https://data.seattle.gov/resource/ppi5-g2bj.json</td>\n",
       "      <td>occured_date_time</td>\n",
       "    </tr>\n",
       "    <tr>\n",
       "      <th>1</th>\n",
       "      <td>https://opendata.howardcountymd.gov/d/aas5-u28t</td>\n",
       "      <td>2020-07-02T12:40:56.000Z</td>\n",
       "      <td></td>\n",
       "      <td>Howard County Police Department  Use Of Force ...</td>\n",
       "      <td>https://opendata.howardcountymd.gov/resource/a...</td>\n",
       "      <td></td>\n",
       "    </tr>\n",
       "    <tr>\n",
       "      <th>2</th>\n",
       "      <td>https://data.nola.gov/d/9mnw-mbde</td>\n",
       "      <td>2020-02-11T21:13:56.000Z</td>\n",
       "      <td>2016-08-03</td>\n",
       "      <td>NOPD Use of Force Incidents</td>\n",
       "      <td>https://data.nola.gov/resource/9mnw-mbde.json</td>\n",
       "      <td>date_occurred</td>\n",
       "    </tr>\n",
       "    <tr>\n",
       "      <th>3</th>\n",
       "      <td>https://data.ny.gov/d/ca8h-8gjq</td>\n",
       "      <td>2019-10-01T22:04:56.000Z</td>\n",
       "      <td></td>\n",
       "      <td>Index Crimes by County and Agency: Beginning 1990</td>\n",
       "      <td>https://data.ny.gov/resource/ca8h-8gjq.json</td>\n",
       "      <td></td>\n",
       "    </tr>\n",
       "    <tr>\n",
       "      <th>4</th>\n",
       "      <td>https://data.baltimorecity.gov/d/3w4d-kckv</td>\n",
       "      <td>2015-12-04T16:28:46.000Z</td>\n",
       "      <td>2015-11-20</td>\n",
       "      <td>BPD Officer Involved Use Of Force</td>\n",
       "      <td>https://data.baltimorecity.gov/resource/3w4d-k...</td>\n",
       "      <td>date</td>\n",
       "    </tr>\n",
       "    <tr>\n",
       "      <th>...</th>\n",
       "      <td>...</td>\n",
       "      <td>...</td>\n",
       "      <td>...</td>\n",
       "      <td>...</td>\n",
       "      <td>...</td>\n",
       "      <td>...</td>\n",
       "    </tr>\n",
       "    <tr>\n",
       "      <th>64</th>\n",
       "      <td>https://data.cms.gov/d/din4-7td8</td>\n",
       "      <td>2015-05-06T15:46:05.000Z</td>\n",
       "      <td></td>\n",
       "      <td>Medicare Provider Utilization and Payment Data...</td>\n",
       "      <td>https://data.cms.gov/resource/din4-7td8.json</td>\n",
       "      <td></td>\n",
       "    </tr>\n",
       "    <tr>\n",
       "      <th>65</th>\n",
       "      <td>https://datahub.smcgov.org/d/kcwq-73vi</td>\n",
       "      <td>2016-04-25T15:30:41.000Z</td>\n",
       "      <td>2014-01-01</td>\n",
       "      <td>CVI Indicators Tracts</td>\n",
       "      <td>https://datahub.smcgov.org/resource/kcwq-73vi....</td>\n",
       "      <td>year</td>\n",
       "    </tr>\n",
       "    <tr>\n",
       "      <th>66</th>\n",
       "      <td>https://data.nola.gov/d/qtcu-97s9</td>\n",
       "      <td>2019-10-10T09:04:39.000Z</td>\n",
       "      <td></td>\n",
       "      <td>Electronic Police Report 2017</td>\n",
       "      <td>https://data.nola.gov/resource/qtcu-97s9.json</td>\n",
       "      <td></td>\n",
       "    </tr>\n",
       "    <tr>\n",
       "      <th>67</th>\n",
       "      <td>https://data.cityofnewyork.us/d/t5qg-w9sq</td>\n",
       "      <td>2018-06-07T21:52:17.000Z</td>\n",
       "      <td></td>\n",
       "      <td>2016-2017 Student Discipline Annual Report - D...</td>\n",
       "      <td>https://data.cityofnewyork.us/resource/t5qg-w9...</td>\n",
       "      <td></td>\n",
       "    </tr>\n",
       "    <tr>\n",
       "      <th>68</th>\n",
       "      <td>https://data.nola.gov/d/5fn8-vtui</td>\n",
       "      <td>2015-11-02T18:13:14.000Z</td>\n",
       "      <td>2013-01-01,2013-01-01,2013-01-01,2013-01-01</td>\n",
       "      <td>Calls for Service 2013</td>\n",
       "      <td>https://data.nola.gov/resource/5fn8-vtui.json</td>\n",
       "      <td>timearrive,timecreate,timeclosed,timedispatch</td>\n",
       "    </tr>\n",
       "  </tbody>\n",
       "</table>\n",
       "<p>69 rows × 6 columns</p>\n",
       "</div>"
      ],
      "text/plain": [
       "                                        browser_url           data_updated_at  \\\n",
       "0              https://data.seattle.gov/d/ppi5-g2bj  2020-07-12T10:10:43.000Z   \n",
       "1   https://opendata.howardcountymd.gov/d/aas5-u28t  2020-07-02T12:40:56.000Z   \n",
       "2                 https://data.nola.gov/d/9mnw-mbde  2020-02-11T21:13:56.000Z   \n",
       "3                   https://data.ny.gov/d/ca8h-8gjq  2019-10-01T22:04:56.000Z   \n",
       "4        https://data.baltimorecity.gov/d/3w4d-kckv  2015-12-04T16:28:46.000Z   \n",
       "..                                              ...                       ...   \n",
       "64                 https://data.cms.gov/d/din4-7td8  2015-05-06T15:46:05.000Z   \n",
       "65           https://datahub.smcgov.org/d/kcwq-73vi  2016-04-25T15:30:41.000Z   \n",
       "66                https://data.nola.gov/d/qtcu-97s9  2019-10-10T09:04:39.000Z   \n",
       "67        https://data.cityofnewyork.us/d/t5qg-w9sq  2018-06-07T21:52:17.000Z   \n",
       "68                https://data.nola.gov/d/5fn8-vtui  2015-11-02T18:13:14.000Z   \n",
       "\n",
       "                      dataset_most_recent_dates  \\\n",
       "0                                    2014-10-06   \n",
       "1                                                 \n",
       "2                                    2016-08-03   \n",
       "3                                                 \n",
       "4                                    2015-11-20   \n",
       "..                                          ...   \n",
       "64                                                \n",
       "65                                   2014-01-01   \n",
       "66                                                \n",
       "67                                                \n",
       "68  2013-01-01,2013-01-01,2013-01-01,2013-01-01   \n",
       "\n",
       "                                         dataset_name  \\\n",
       "0                                        Use Of Force   \n",
       "1   Howard County Police Department  Use Of Force ...   \n",
       "2                         NOPD Use of Force Incidents   \n",
       "3   Index Crimes by County and Agency: Beginning 1990   \n",
       "4                   BPD Officer Involved Use Of Force   \n",
       "..                                                ...   \n",
       "64  Medicare Provider Utilization and Payment Data...   \n",
       "65                              CVI Indicators Tracts   \n",
       "66                      Electronic Police Report 2017   \n",
       "67  2016-2017 Student Discipline Annual Report - D...   \n",
       "68                             Calls for Service 2013   \n",
       "\n",
       "                                          dataset_url  \\\n",
       "0    https://data.seattle.gov/resource/ppi5-g2bj.json   \n",
       "1   https://opendata.howardcountymd.gov/resource/a...   \n",
       "2       https://data.nola.gov/resource/9mnw-mbde.json   \n",
       "3         https://data.ny.gov/resource/ca8h-8gjq.json   \n",
       "4   https://data.baltimorecity.gov/resource/3w4d-k...   \n",
       "..                                                ...   \n",
       "64       https://data.cms.gov/resource/din4-7td8.json   \n",
       "65  https://datahub.smcgov.org/resource/kcwq-73vi....   \n",
       "66      https://data.nola.gov/resource/qtcu-97s9.json   \n",
       "67  https://data.cityofnewyork.us/resource/t5qg-w9...   \n",
       "68      https://data.nola.gov/resource/5fn8-vtui.json   \n",
       "\n",
       "                                        date_cols  \n",
       "0                               occured_date_time  \n",
       "1                                                  \n",
       "2                                   date_occurred  \n",
       "3                                                  \n",
       "4                                            date  \n",
       "..                                            ...  \n",
       "64                                                 \n",
       "65                                           year  \n",
       "66                                                 \n",
       "67                                                 \n",
       "68  timearrive,timecreate,timeclosed,timedispatch  \n",
       "\n",
       "[69 rows x 6 columns]"
      ]
     },
     "execution_count": 109,
     "metadata": {},
     "output_type": "execute_result"
    }
   ],
   "source": [
    "socrata_summary_df"
   ]
  },
  {
   "cell_type": "code",
   "execution_count": null,
   "metadata": {},
   "outputs": [],
   "source": []
  },
  {
   "cell_type": "code",
   "execution_count": 92,
   "metadata": {},
   "outputs": [],
   "source": [
    "dataset = socrata_json['results'][78]\n",
    "\n",
    "dataset_resource = dataset['resource']\n",
    "dataset_metadata = dataset['metadata']\n",
    "\n",
    "dataset_id = dataset_resource['id']\n",
    "domain = dataset_metadata['domain']\n"
   ]
  },
  {
   "cell_type": "code",
   "execution_count": 104,
   "metadata": {},
   "outputs": [
    {
     "data": {
      "text/plain": [
       "'https://data.nola.gov/resource/jsyu-nz5r.json?$limit=100000000'"
      ]
     },
     "execution_count": 104,
     "metadata": {},
     "output_type": "execute_result"
    }
   ],
   "source": [
    "resource_url = os.path.join('https://', domain, 'resource', '{}.json?$limit=100000000'.format(dataset_id))\n",
    "\n",
    "resource_url"
   ]
  },
  {
   "cell_type": "code",
   "execution_count": 105,
   "metadata": {},
   "outputs": [
    {
     "data": {
      "text/plain": [
       "96166"
      ]
     },
     "execution_count": 105,
     "metadata": {},
     "output_type": "execute_result"
    }
   ],
   "source": [
    "resource_data = requests.get(resource_url)\n",
    "resource_df = pd.DataFrame(resource_data.json())\n",
    "resource_df['timearrive'].isna().sum()"
   ]
  },
  {
   "cell_type": "code",
   "execution_count": 106,
   "metadata": {},
   "outputs": [
    {
     "data": {
      "text/plain": [
       "(447462, 29)"
      ]
     },
     "execution_count": 106,
     "metadata": {},
     "output_type": "execute_result"
    }
   ],
   "source": [
    "resource_df.shape"
   ]
  },
  {
   "cell_type": "code",
   "execution_count": 98,
   "metadata": {},
   "outputs": [],
   "source": [
    "resource_name = dataset_resource['name']\n",
    "resource_cols = dataset_resource['columns_field_name']\n",
    "resource_coltypes = dataset_resource['columns_datatype']\n",
    "resource_col_dict = dict(zip(resource_cols, resource_coltypes))\n",
    "resource_datecol_dict = {k: v for k, v in resource_col_dict.items() if 'calendar' in v.lower()}\n",
    "resource_date_cols = [col for col in resource_datecol_dict.keys()]"
   ]
  },
  {
   "cell_type": "code",
   "execution_count": 101,
   "metadata": {},
   "outputs": [
    {
     "data": {
      "text/plain": [
       "(1000, 29)"
      ]
     },
     "execution_count": 101,
     "metadata": {},
     "output_type": "execute_result"
    }
   ],
   "source": [
    "resource_df.shape"
   ]
  },
  {
   "cell_type": "code",
   "execution_count": 84,
   "metadata": {
    "collapsed": true
   },
   "outputs": [
    {
     "ename": "TypeError",
     "evalue": "'>=' not supported between instances of 'datetime.date' and 'float'",
     "output_type": "error",
     "traceback": [
      "\u001b[0;31m---------------------------------------------------------------------------\u001b[0m",
      "\u001b[0;31mTypeError\u001b[0m                                 Traceback (most recent call last)",
      "\u001b[0;32m<ipython-input-84-7d7eca46e4be>\u001b[0m in \u001b[0;36m<module>\u001b[0;34m\u001b[0m\n\u001b[1;32m     10\u001b[0m     \u001b[0mdate_cols\u001b[0m\u001b[0;34m.\u001b[0m\u001b[0mappend\u001b[0m\u001b[0;34m(\u001b[0m\u001b[0mdate_col\u001b[0m\u001b[0;34m)\u001b[0m\u001b[0;34m\u001b[0m\u001b[0m\n\u001b[1;32m     11\u001b[0m     \u001b[0mresource_df\u001b[0m\u001b[0;34m[\u001b[0m\u001b[0mdate_col\u001b[0m\u001b[0;34m]\u001b[0m \u001b[0;34m=\u001b[0m \u001b[0mpd\u001b[0m\u001b[0;34m.\u001b[0m\u001b[0mto_datetime\u001b[0m\u001b[0;34m(\u001b[0m\u001b[0mresource_df\u001b[0m\u001b[0;34m[\u001b[0m\u001b[0mdate_col\u001b[0m\u001b[0;34m]\u001b[0m\u001b[0;34m)\u001b[0m\u001b[0;34m.\u001b[0m\u001b[0mdt\u001b[0m\u001b[0;34m.\u001b[0m\u001b[0mdate\u001b[0m\u001b[0;34m\u001b[0m\u001b[0m\n\u001b[0;32m---> 12\u001b[0;31m     \u001b[0mmost_recent_dt\u001b[0m \u001b[0;34m=\u001b[0m \u001b[0mresource_df\u001b[0m\u001b[0;34m[\u001b[0m\u001b[0mdate_col\u001b[0m\u001b[0;34m]\u001b[0m\u001b[0;34m.\u001b[0m\u001b[0mmax\u001b[0m\u001b[0;34m(\u001b[0m\u001b[0;34m)\u001b[0m\u001b[0;34m\u001b[0m\u001b[0m\n\u001b[0m\u001b[1;32m     13\u001b[0m     \u001b[0mmost_recent_dates\u001b[0m\u001b[0;34m.\u001b[0m\u001b[0mappend\u001b[0m\u001b[0;34m(\u001b[0m\u001b[0mmost_recent_dt\u001b[0m\u001b[0;34m)\u001b[0m\u001b[0;34m\u001b[0m\u001b[0m\n\u001b[1;32m     14\u001b[0m \u001b[0;34m\u001b[0m\u001b[0m\n",
      "\u001b[0;32m~/.local/share/virtualenvs/police-data-initiative-cEha64Iy/lib/python3.6/site-packages/pandas/core/generic.py\u001b[0m in \u001b[0;36mstat_func\u001b[0;34m(self, axis, skipna, level, numeric_only, **kwargs)\u001b[0m\n\u001b[1;32m  11213\u001b[0m             \u001b[0;32mreturn\u001b[0m \u001b[0mself\u001b[0m\u001b[0;34m.\u001b[0m\u001b[0m_agg_by_level\u001b[0m\u001b[0;34m(\u001b[0m\u001b[0mname\u001b[0m\u001b[0;34m,\u001b[0m \u001b[0maxis\u001b[0m\u001b[0;34m=\u001b[0m\u001b[0maxis\u001b[0m\u001b[0;34m,\u001b[0m \u001b[0mlevel\u001b[0m\u001b[0;34m=\u001b[0m\u001b[0mlevel\u001b[0m\u001b[0;34m,\u001b[0m \u001b[0mskipna\u001b[0m\u001b[0;34m=\u001b[0m\u001b[0mskipna\u001b[0m\u001b[0;34m)\u001b[0m\u001b[0;34m\u001b[0m\u001b[0m\n\u001b[1;32m  11214\u001b[0m         return self._reduce(\n\u001b[0;32m> 11215\u001b[0;31m             \u001b[0mf\u001b[0m\u001b[0;34m,\u001b[0m \u001b[0mname\u001b[0m\u001b[0;34m,\u001b[0m \u001b[0maxis\u001b[0m\u001b[0;34m=\u001b[0m\u001b[0maxis\u001b[0m\u001b[0;34m,\u001b[0m \u001b[0mskipna\u001b[0m\u001b[0;34m=\u001b[0m\u001b[0mskipna\u001b[0m\u001b[0;34m,\u001b[0m \u001b[0mnumeric_only\u001b[0m\u001b[0;34m=\u001b[0m\u001b[0mnumeric_only\u001b[0m\u001b[0;34m\u001b[0m\u001b[0m\n\u001b[0m\u001b[1;32m  11216\u001b[0m         )\n\u001b[1;32m  11217\u001b[0m \u001b[0;34m\u001b[0m\u001b[0m\n",
      "\u001b[0;32m~/.local/share/virtualenvs/police-data-initiative-cEha64Iy/lib/python3.6/site-packages/pandas/core/series.py\u001b[0m in \u001b[0;36m_reduce\u001b[0;34m(self, op, name, axis, skipna, numeric_only, filter_type, **kwds)\u001b[0m\n\u001b[1;32m   3889\u001b[0m                 )\n\u001b[1;32m   3890\u001b[0m             \u001b[0;32mwith\u001b[0m \u001b[0mnp\u001b[0m\u001b[0;34m.\u001b[0m\u001b[0merrstate\u001b[0m\u001b[0;34m(\u001b[0m\u001b[0mall\u001b[0m\u001b[0;34m=\u001b[0m\u001b[0;34m\"ignore\"\u001b[0m\u001b[0;34m)\u001b[0m\u001b[0;34m:\u001b[0m\u001b[0;34m\u001b[0m\u001b[0m\n\u001b[0;32m-> 3891\u001b[0;31m                 \u001b[0;32mreturn\u001b[0m \u001b[0mop\u001b[0m\u001b[0;34m(\u001b[0m\u001b[0mdelegate\u001b[0m\u001b[0;34m,\u001b[0m \u001b[0mskipna\u001b[0m\u001b[0;34m=\u001b[0m\u001b[0mskipna\u001b[0m\u001b[0;34m,\u001b[0m \u001b[0;34m**\u001b[0m\u001b[0mkwds\u001b[0m\u001b[0;34m)\u001b[0m\u001b[0;34m\u001b[0m\u001b[0m\n\u001b[0m\u001b[1;32m   3892\u001b[0m \u001b[0;34m\u001b[0m\u001b[0m\n\u001b[1;32m   3893\u001b[0m         \u001b[0;31m# TODO(EA) dispatch to Index\u001b[0m\u001b[0;34m\u001b[0m\u001b[0;34m\u001b[0m\u001b[0m\n",
      "\u001b[0;32m~/.local/share/virtualenvs/police-data-initiative-cEha64Iy/lib/python3.6/site-packages/pandas/core/nanops.py\u001b[0m in \u001b[0;36mf\u001b[0;34m(values, axis, skipna, **kwds)\u001b[0m\n\u001b[1;32m    123\u001b[0m                     \u001b[0mresult\u001b[0m \u001b[0;34m=\u001b[0m \u001b[0malt\u001b[0m\u001b[0;34m(\u001b[0m\u001b[0mvalues\u001b[0m\u001b[0;34m,\u001b[0m \u001b[0maxis\u001b[0m\u001b[0;34m=\u001b[0m\u001b[0maxis\u001b[0m\u001b[0;34m,\u001b[0m \u001b[0mskipna\u001b[0m\u001b[0;34m=\u001b[0m\u001b[0mskipna\u001b[0m\u001b[0;34m,\u001b[0m \u001b[0;34m**\u001b[0m\u001b[0mkwds\u001b[0m\u001b[0;34m)\u001b[0m\u001b[0;34m\u001b[0m\u001b[0m\n\u001b[1;32m    124\u001b[0m             \u001b[0;32melse\u001b[0m\u001b[0;34m:\u001b[0m\u001b[0;34m\u001b[0m\u001b[0m\n\u001b[0;32m--> 125\u001b[0;31m                 \u001b[0mresult\u001b[0m \u001b[0;34m=\u001b[0m \u001b[0malt\u001b[0m\u001b[0;34m(\u001b[0m\u001b[0mvalues\u001b[0m\u001b[0;34m,\u001b[0m \u001b[0maxis\u001b[0m\u001b[0;34m=\u001b[0m\u001b[0maxis\u001b[0m\u001b[0;34m,\u001b[0m \u001b[0mskipna\u001b[0m\u001b[0;34m=\u001b[0m\u001b[0mskipna\u001b[0m\u001b[0;34m,\u001b[0m \u001b[0;34m**\u001b[0m\u001b[0mkwds\u001b[0m\u001b[0;34m)\u001b[0m\u001b[0;34m\u001b[0m\u001b[0m\n\u001b[0m\u001b[1;32m    126\u001b[0m \u001b[0;34m\u001b[0m\u001b[0m\n\u001b[1;32m    127\u001b[0m             \u001b[0;32mreturn\u001b[0m \u001b[0mresult\u001b[0m\u001b[0;34m\u001b[0m\u001b[0m\n",
      "\u001b[0;32m~/.local/share/virtualenvs/police-data-initiative-cEha64Iy/lib/python3.6/site-packages/pandas/core/nanops.py\u001b[0m in \u001b[0;36mreduction\u001b[0;34m(values, axis, skipna, mask)\u001b[0m\n\u001b[1;32m    835\u001b[0m                 \u001b[0mresult\u001b[0m \u001b[0;34m=\u001b[0m \u001b[0mnp\u001b[0m\u001b[0;34m.\u001b[0m\u001b[0mnan\u001b[0m\u001b[0;34m\u001b[0m\u001b[0m\n\u001b[1;32m    836\u001b[0m         \u001b[0;32melse\u001b[0m\u001b[0;34m:\u001b[0m\u001b[0;34m\u001b[0m\u001b[0m\n\u001b[0;32m--> 837\u001b[0;31m             \u001b[0mresult\u001b[0m \u001b[0;34m=\u001b[0m \u001b[0mgetattr\u001b[0m\u001b[0;34m(\u001b[0m\u001b[0mvalues\u001b[0m\u001b[0;34m,\u001b[0m \u001b[0mmeth\u001b[0m\u001b[0;34m)\u001b[0m\u001b[0;34m(\u001b[0m\u001b[0maxis\u001b[0m\u001b[0;34m)\u001b[0m\u001b[0;34m\u001b[0m\u001b[0m\n\u001b[0m\u001b[1;32m    838\u001b[0m \u001b[0;34m\u001b[0m\u001b[0m\n\u001b[1;32m    839\u001b[0m         \u001b[0mresult\u001b[0m \u001b[0;34m=\u001b[0m \u001b[0m_wrap_results\u001b[0m\u001b[0;34m(\u001b[0m\u001b[0mresult\u001b[0m\u001b[0;34m,\u001b[0m \u001b[0mdtype\u001b[0m\u001b[0;34m,\u001b[0m \u001b[0mfill_value\u001b[0m\u001b[0;34m)\u001b[0m\u001b[0;34m\u001b[0m\u001b[0m\n",
      "\u001b[0;32m~/.local/share/virtualenvs/police-data-initiative-cEha64Iy/lib/python3.6/site-packages/numpy/core/_methods.py\u001b[0m in \u001b[0;36m_amax\u001b[0;34m(a, axis, out, keepdims, initial, where)\u001b[0m\n\u001b[1;32m     28\u001b[0m def _amax(a, axis=None, out=None, keepdims=False,\n\u001b[1;32m     29\u001b[0m           initial=_NoValue, where=True):\n\u001b[0;32m---> 30\u001b[0;31m     \u001b[0;32mreturn\u001b[0m \u001b[0mumr_maximum\u001b[0m\u001b[0;34m(\u001b[0m\u001b[0ma\u001b[0m\u001b[0;34m,\u001b[0m \u001b[0maxis\u001b[0m\u001b[0;34m,\u001b[0m \u001b[0;32mNone\u001b[0m\u001b[0;34m,\u001b[0m \u001b[0mout\u001b[0m\u001b[0;34m,\u001b[0m \u001b[0mkeepdims\u001b[0m\u001b[0;34m,\u001b[0m \u001b[0minitial\u001b[0m\u001b[0;34m,\u001b[0m \u001b[0mwhere\u001b[0m\u001b[0;34m)\u001b[0m\u001b[0;34m\u001b[0m\u001b[0m\n\u001b[0m\u001b[1;32m     31\u001b[0m \u001b[0;34m\u001b[0m\u001b[0m\n\u001b[1;32m     32\u001b[0m def _amin(a, axis=None, out=None, keepdims=False,\n",
      "\u001b[0;31mTypeError\u001b[0m: '>=' not supported between instances of 'datetime.date' and 'float'"
     ]
    }
   ],
   "source": [
    "dataset_summary_row = {\n",
    "    'dataset_name' : resource_name,\n",
    "    'dataset_url' : resource_url,\n",
    "    'data_updated_at' : dataset_resource['data_updated_at']\n",
    "}\n",
    "most_recent_dates = []\n",
    "date_cols = []\n",
    "\n",
    "for date_col in resource_date_cols:\n",
    "    date_cols.append(date_col)\n",
    "    resource_df[date_col] = pd.to_datetime(resource_df[date_col]).dt.date\n",
    "    most_recent_dt = resource_df[date_col].max()\n",
    "    most_recent_dates.append(most_recent_dt)\n",
    "    \n",
    "dataset_summary_row['date_cols'] = ','.join(date_cols)\n",
    "dataset_summary_row['dataset_most_recent_dates'] = ','.join([str(dt) for dt in most_recent_dates])\n",
    "#resource_df[resource_date_cols] = pd.to_datetime(resource_df[resource_date_cols], format='%Y-%m-%dT%H:%M:%S.%f')"
   ]
  },
  {
   "cell_type": "code",
   "execution_count": 97,
   "metadata": {},
   "outputs": [
    {
     "data": {
      "text/plain": [
       "['year']"
      ]
     },
     "execution_count": 97,
     "metadata": {},
     "output_type": "execute_result"
    }
   ],
   "source": [
    "resource_date_cols"
   ]
  },
  {
   "cell_type": "code",
   "execution_count": 56,
   "metadata": {},
   "outputs": [
    {
     "data": {
      "text/plain": [
       "datetime.date(2014, 10, 6)"
      ]
     },
     "execution_count": 56,
     "metadata": {},
     "output_type": "execute_result"
    }
   ],
   "source": [
    "#dt_formats = ['%Y-%m-%dT%H:%M:%S.%f']\n",
    "\n",
    "resource_df[date_col].max()"
   ]
  },
  {
   "cell_type": "code",
   "execution_count": 55,
   "metadata": {},
   "outputs": [
    {
     "data": {
      "text/plain": [
       "{'dataset_name': 'Use Of Force',\n",
       " 'dataset_url': 'https://data.seattle.gov/resource/ppi5-g2bj.json',\n",
       " 'data_updated_at': '2020-07-12T10:10:43.000Z',\n",
       " 'date_cols': 'occured_date_time',\n",
       " 'dataset_most_recent_dates': '2014-10-06'}"
      ]
     },
     "execution_count": 55,
     "metadata": {},
     "output_type": "execute_result"
    }
   ],
   "source": [
    "dataset_summary_row"
   ]
  },
  {
   "cell_type": "code",
   "execution_count": null,
   "metadata": {},
   "outputs": [],
   "source": []
  }
 ],
 "metadata": {
  "kernelspec": {
   "display_name": "Python 3",
   "language": "python",
   "name": "python3"
  },
  "language_info": {
   "codemirror_mode": {
    "name": "ipython",
    "version": 3
   },
   "file_extension": ".py",
   "mimetype": "text/x-python",
   "name": "python",
   "nbconvert_exporter": "python",
   "pygments_lexer": "ipython3",
   "version": "3.6.5"
  }
 },
 "nbformat": 4,
 "nbformat_minor": 4
}
